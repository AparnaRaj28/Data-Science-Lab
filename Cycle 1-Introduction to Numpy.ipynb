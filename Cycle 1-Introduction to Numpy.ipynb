{
 "cells": [
  {
   "cell_type": "markdown",
   "id": "d192038c",
   "metadata": {},
   "source": [
    "## CYCLE 1- INTRODUCTION TO NUMPY"
   ]
  },
  {
   "cell_type": "markdown",
   "id": "4f9aa968",
   "metadata": {},
   "source": [
    "##### 1. Write a NumPy program to create an element-wise comparison(greater,greater equal,less,less equal of two given arrays"
   ]
  },
  {
   "cell_type": "code",
   "execution_count": 1,
   "id": "8ee5e6c0",
   "metadata": {},
   "outputs": [
    {
     "name": "stdout",
     "output_type": "stream",
     "text": [
      "The Arrays are:\n",
      "[3 6]\n",
      "[7 2]\n",
      "The Comparison are\n",
      "Greater:\n",
      "[False  True]\n",
      "Greater equal:\n",
      "[False  True]\n",
      "Less:\n",
      "[ True False]\n",
      "Less equal:\n",
      "[ True False]\n"
     ]
    }
   ],
   "source": [
    "import numpy as np\n",
    "x=np.array([3,6])\n",
    "y=np.array([7,2])\n",
    "print(\"The Arrays are:\")\n",
    "print(x)\n",
    "print(y)\n",
    "print(\"The Comparison are\")\n",
    "print(\"Greater:\")\n",
    "print(np.greater(x,y))\n",
    "print(\"Greater equal:\")\n",
    "print(np.greater_equal(x,y))\n",
    "print(\"Less:\")\n",
    "print(np.less(x,y))\n",
    "print(\"Less equal:\")\n",
    "print(np.less_equal(x,y))"
   ]
  },
  {
   "cell_type": "markdown",
   "id": "729db2b9",
   "metadata": {},
   "source": [
    "##### 2. Write a numpy program to create an array of even numbers from 30 to 70."
   ]
  },
  {
   "cell_type": "code",
   "execution_count": 4,
   "id": "3cd6600b",
   "metadata": {},
   "outputs": [
    {
     "name": "stdout",
     "output_type": "stream",
     "text": [
      "The array of even numbers from 30 to 70 are:\n",
      "[30 32 34 36 38 40 42 44 46 48 50 52 54 56 58 60 62 64 66 68 70]\n"
     ]
    }
   ],
   "source": [
    "import numpy as np\n",
    "evn_arr=np.arange(30,71,2)\n",
    "print(\"The array of even numbers from 30 to 70 are:\")\n",
    "print(evn_arr)"
   ]
  },
  {
   "cell_type": "markdown",
   "id": "57cc211b",
   "metadata": {},
   "source": [
    "##### 3. Write a NumPy program to create a 3x3 identity matrix"
   ]
  },
  {
   "cell_type": "code",
   "execution_count": 6,
   "id": "c222844b",
   "metadata": {},
   "outputs": [
    {
     "name": "stdout",
     "output_type": "stream",
     "text": [
      "3x3 Identity matrix is:\n",
      "[[1. 0. 0.]\n",
      " [0. 1. 0.]\n",
      " [0. 0. 1.]]\n"
     ]
    }
   ],
   "source": [
    "import numpy as np\n",
    "matrix=np.identity(3)\n",
    "print('3x3 Identity matrix is:')\n",
    "print(matrix)"
   ]
  },
  {
   "cell_type": "markdown",
   "id": "589f6da6",
   "metadata": {},
   "source": [
    "##### 4. Write a NumPy program to create a vector with values from 0 to 20 and change the sign ofthe numbers in the range from 9 to 15."
   ]
  },
  {
   "cell_type": "code",
   "execution_count": 8,
   "id": "40859315",
   "metadata": {},
   "outputs": [
    {
     "name": "stdout",
     "output_type": "stream",
     "text": [
      "Original vector is:\n",
      "[ 0  1  2  3  4  5  6  7  8  9 10 11 12 13 14 15 16 17 18 19 20]\n",
      "Vector after changing the sign of the numbers in the range from 9 to 15:\n",
      "[  0   1   2   3   4   5   6   7   8  -9 -10 -11 -12 -13 -14 -15  16  17\n",
      "  18  19  20]\n"
     ]
    }
   ],
   "source": [
    "import numpy as np\n",
    "x = np.arange(21)\n",
    "print(\"Original vector is:\")\n",
    "print(x)\n",
    "print(\"Vector after changing the sign of the numbers in the range from 9 to 15:\")\n",
    "x[(x >= 9) & (x <= 15)] *= -1\n",
    "print(x)"
   ]
  },
  {
   "cell_type": "markdown",
   "id": "fc446347",
   "metadata": {},
   "source": [
    "##### 5.Write a NumPy program to create a 5x5 zero matrix with elements on the main diagonalequal to 1, 2, 3, 4, 5."
   ]
  },
  {
   "cell_type": "code",
   "execution_count": 10,
   "id": "36e909bc",
   "metadata": {},
   "outputs": [
    {
     "name": "stdout",
     "output_type": "stream",
     "text": [
      "[[1 0 0 0 0]\n",
      " [0 2 0 0 0]\n",
      " [0 0 3 0 0]\n",
      " [0 0 0 4 0]\n",
      " [0 0 0 0 5]]\n"
     ]
    }
   ],
   "source": [
    "import numpy as np\n",
    "x = np.diag([1, 2, 3, 4, 5])\n",
    "print(x)"
   ]
  },
  {
   "cell_type": "markdown",
   "id": "b3f52274",
   "metadata": {},
   "source": [
    "###### 6. Write a NumPy program to compute sum of all elements, sum of each column and sum of each row of a given array.\n"
   ]
  },
  {
   "cell_type": "code",
   "execution_count": 11,
   "id": "2b3a3e50",
   "metadata": {},
   "outputs": [
    {
     "name": "stdout",
     "output_type": "stream",
     "text": [
      "Original array:\n",
      "[[2 1]\n",
      " [5 3]]\n",
      "Sum of all elements:\n",
      "11\n",
      "Sum of each column:\n",
      "[7 4]\n",
      "Sum of each row:\n",
      "[3 8]\n"
     ]
    }
   ],
   "source": [
    "import numpy as np\n",
    "x = np.array([[2,1],[5,3]])\n",
    "print(\"Original array:\")\n",
    "print(x)\n",
    "print(\"Sum of all elements:\")\n",
    "print(np.sum(x))\n",
    "print(\"Sum of each column:\")\n",
    "print(np.sum(x, axis=0))\n",
    "print(\"Sum of each row:\")\n",
    "print(np.sum(x, axis=1))"
   ]
  },
  {
   "cell_type": "markdown",
   "id": "4ec69be4",
   "metadata": {},
   "source": [
    "##### 7. Write a NumPy program to save a given array to a text file and load it."
   ]
  },
  {
   "cell_type": "code",
   "execution_count": 13,
   "id": "c84f1963",
   "metadata": {},
   "outputs": [
    {
     "name": "stdout",
     "output_type": "stream",
     "text": [
      "Original array:\n",
      "[[0 1 2]\n",
      " [3 4 5]\n",
      " [6 7 8]]\n",
      "The text file is:\n",
      "[[0. 1. 2.]\n",
      " [3. 4. 5.]\n",
      " [6. 7. 8.]]\n"
     ]
    }
   ],
   "source": [
    "import numpy as np\n",
    "import os\n",
    "x = np.arange(9).reshape(3, 3)\n",
    "print(\"Original array:\")\n",
    "print(x)\n",
    "header = 'col1 col2 col3'\n",
    "np.savetxt('sample.txt', x, fmt=\"%d\", header=header) \n",
    "print(\"The text file is:\")\n",
    "txt = np.loadtxt('sample.txt')\n",
    "print(txt)"
   ]
  },
  {
   "cell_type": "markdown",
   "id": "9d41010a",
   "metadata": {},
   "source": [
    "##### 8. Write a NumPy program to check whether two arrays are equal (element wise) or not."
   ]
  },
  {
   "cell_type": "code",
   "execution_count": 14,
   "id": "38adb4a9",
   "metadata": {},
   "outputs": [
    {
     "name": "stdout",
     "output_type": "stream",
     "text": [
      "Original arrays:\n",
      "[ 5  1 10]\n",
      "[20  1  2]\n",
      "\n",
      "Result after checking:\n",
      "[False  True False]\n"
     ]
    }
   ],
   "source": [
    "import numpy as np\n",
    "arr1 = np.array([5, 1, 10])\n",
    "arr2 = np.array([20, 1, 2])\n",
    "print(\"Original arrays:\")\n",
    "print(arr1)\n",
    "print(arr2)\n",
    "print(\"\\nResult after checking:\")\n",
    "print(arr1 == arr2)"
   ]
  },
  {
   "cell_type": "markdown",
   "id": "d01a8492",
   "metadata": {},
   "source": [
    "##### 9. Write a NumPy program to create a 4x4 array with random values, now create a new array from the said array swapping first and last rows"
   ]
  },
  {
   "cell_type": "code",
   "execution_count": 16,
   "id": "28ad1f5c",
   "metadata": {},
   "outputs": [
    {
     "name": "stdout",
     "output_type": "stream",
     "text": [
      "Original array:\n",
      "[[ 0  1  2  3]\n",
      " [ 4  5  6  7]\n",
      " [ 8  9 10 11]\n",
      " [12 13 14 15]]\n",
      "\n",
      "Resultant array after swapping:\n",
      "[[12 13 14 15]\n",
      " [ 8  9 10 11]\n",
      " [ 4  5  6  7]\n",
      " [ 0  1  2  3]]\n"
     ]
    }
   ],
   "source": [
    "import numpy as np \n",
    "arr = np.arange(16).reshape(-1, 4)\n",
    "print(\"Original array:\")\n",
    "print(arr)\n",
    "print(\"\\nResultant array after swapping:\")\n",
    "arr1 = arr[::-1]\n",
    "print(arr1)"
   ]
  },
  {
   "cell_type": "markdown",
   "id": "d1c79106",
   "metadata": {},
   "source": [
    "##### 10. Write a NumPy program to multiply two given arrays of same size element-by-element"
   ]
  },
  {
   "cell_type": "code",
   "execution_count": 18,
   "id": "22b03bb6",
   "metadata": {},
   "outputs": [
    {
     "name": "stdout",
     "output_type": "stream",
     "text": [
      "First Array:\n",
      "[[2 6 5]\n",
      " [1 3 4]]\n",
      "Second Array:\n",
      "[[6 2 2]\n",
      " [9 4 5]]\n",
      "\n",
      "Resultant array after multiplication:\n",
      "[[12 12 10]\n",
      " [ 9 12 20]]\n"
     ]
    }
   ],
   "source": [
    "import numpy as np \n",
    "arr1 = np.array([[2, 6, 5],\n",
    "              [1, 3, 4]])\n",
    "arr2 = np.array([[6, 2, 2],\n",
    "              [9, 4, 5]])\n",
    "print(\"First Array:\") \n",
    "print(arr1)\n",
    "print(\"Second Array:\") \n",
    "print(arr2)\n",
    "print(\"\\nResultant array after multiplication:\")\n",
    "print(np.multiply(arr1, arr2))"
   ]
  }
 ],
 "metadata": {
  "kernelspec": {
   "display_name": "Python 3 (ipykernel)",
   "language": "python",
   "name": "python3"
  },
  "language_info": {
   "codemirror_mode": {
    "name": "ipython",
    "version": 3
   },
   "file_extension": ".py",
   "mimetype": "text/x-python",
   "name": "python",
   "nbconvert_exporter": "python",
   "pygments_lexer": "ipython3",
   "version": "3.9.7"
  }
 },
 "nbformat": 4,
 "nbformat_minor": 5
}
