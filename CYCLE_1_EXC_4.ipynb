{
 "cells": [
  {
   "cell_type": "markdown",
   "id": "ea0fe858",
   "metadata": {},
   "source": [
    "## LAB CYCLE 1\n",
    "\n",
    "### EXERCISE 4: Introduction to Pandas"
   ]
  },
  {
   "cell_type": "markdown",
   "id": "4c05d89e",
   "metadata": {},
   "source": [
    "1.Write a python program to implement List-to-Series Conversion."
   ]
  },
  {
   "cell_type": "code",
   "execution_count": 3,
   "id": "f2ac7075",
   "metadata": {},
   "outputs": [
    {
     "name": "stdout",
     "output_type": "stream",
     "text": [
      "0         Apple\n",
      "1        Orange\n",
      "2        Banana\n",
      "3         Peach\n",
      "4    Strawberry\n",
      "dtype: object\n"
     ]
    }
   ],
   "source": [
    "import pandas as pd\n",
    "\n",
    "list = ['Apple','Orange','Banana','Peach','Strawberry']\n",
    "\n",
    "series = pd.Series(list)\n",
    "\n",
    "print(series)"
   ]
  },
  {
   "cell_type": "markdown",
   "id": "acbd291c",
   "metadata": {},
   "source": [
    "2.Write  a  python  program  to Generate  the  series  of  dates  from  1st  May,  2021  to  12th May, 2021 (both inclusive)."
   ]
  },
  {
   "cell_type": "code",
   "execution_count": 6,
   "id": "b199c9d9",
   "metadata": {},
   "outputs": [
    {
     "name": "stdout",
     "output_type": "stream",
     "text": [
      "DatetimeIndex(['2021-05-01', '2021-05-02', '2021-05-03', '2021-05-04',\n",
      "               '2021-05-05', '2021-05-06', '2021-05-07', '2021-05-08',\n",
      "               '2021-05-09', '2021-05-10', '2021-05-11', '2021-05-12'],\n",
      "              dtype='datetime64[ns]', freq='D')\n"
     ]
    }
   ],
   "source": [
    "import pandas as pd\n",
    "date_series = pd.date_range(start = '05-01-2021', end = '05-12-2021')\n",
    "\n",
    "print(date_series)"
   ]
  },
  {
   "cell_type": "markdown",
   "id": "b025ccf4",
   "metadata": {},
   "source": [
    "3.Given a dictionary, convert it into corresponding dataframe and display it."
   ]
  },
  {
   "cell_type": "code",
   "execution_count": 8,
   "id": "c127abeb",
   "metadata": {},
   "outputs": [
    {
     "name": "stdout",
     "output_type": "stream",
     "text": [
      "        name  age course\n",
      "0     Aparna   22    MCA\n",
      "1      Megha   23  Btech\n",
      "2       Arya   25    MSC\n",
      "3  Adeeshaya   22    Phd\n"
     ]
    }
   ],
   "source": [
    "import pandas as pd\n",
    "dictionary = {'name': ['Aparna', 'Megha', 'Arya','Adeeshaya'],\n",
    "              'age' : [22, 23, 25,22],\n",
    "              'course' : ['MCA', 'Btech', 'MSC','Phd']}\n",
    "\n",
    "dataframe = pd.DataFrame(dictionary)\n",
    "\n",
    "print(dataframe)"
   ]
  },
  {
   "cell_type": "markdown",
   "id": "beaef033",
   "metadata": {},
   "source": [
    "4.Given a 2D List, convert it into corresponding dataframe and display it."
   ]
  },
  {
   "cell_type": "code",
   "execution_count": 10,
   "id": "5e69c096",
   "metadata": {},
   "outputs": [
    {
     "name": "stdout",
     "output_type": "stream",
     "text": [
      "   id        name  age\n",
      "0   1  Aparna Raj   22\n",
      "1   2   Aparna PM   23\n",
      "2   3  Arya Mohan   22\n"
     ]
    }
   ],
   "source": [
    "lists = [[1, 'Aparna Raj', 22],\n",
    "         [2, 'Aparna PM', 23],\n",
    "         [3, 'Arya Mohan', 22]]\n",
    "\n",
    "dataframe = pd.DataFrame(lists, columns = ['id', 'name', 'age'])\n",
    "\n",
    "print(dataframe)"
   ]
  },
  {
   "cell_type": "markdown",
   "id": "368afed3",
   "metadata": {},
   "source": [
    "5.Given a CSV file, read it into a dataframe and display it"
   ]
  },
  {
   "cell_type": "code",
   "execution_count": 18,
   "id": "9c55efa2",
   "metadata": {},
   "outputs": [
    {
     "name": "stdout",
     "output_type": "stream",
     "text": [
      "   id        Name  Age Course\n",
      "0   1   Adeeshaya   21    MCA\n",
      "1  21   Aparna PM   22    Msc\n",
      "2  24  Arya Moahn   23  Btech\n"
     ]
    }
   ],
   "source": [
    "dataframe = pd.read_csv('data.csv')\n",
    "\n",
    "print(dataframe)"
   ]
  },
  {
   "cell_type": "markdown",
   "id": "fb6c2c42",
   "metadata": {},
   "source": [
    "6.Given a dataframe, sort it by multiple columns."
   ]
  },
  {
   "cell_type": "code",
   "execution_count": 19,
   "id": "10be978c",
   "metadata": {},
   "outputs": [
    {
     "name": "stdout",
     "output_type": "stream",
     "text": [
      "   id        Name  Age Course\n",
      "0   1   Adeeshaya   21    MCA\n",
      "1  21   Aparna PM   22    Msc\n",
      "2  24  Arya Moahn   23  Btech\n",
      "\n",
      "   id        Name  Age Course\n",
      "0   1   Adeeshaya   21    MCA\n",
      "1  21   Aparna PM   22    Msc\n",
      "2  24  Arya Moahn   23  Btech\n"
     ]
    }
   ],
   "source": [
    "print(dataframe) # original dataframe\n",
    "\n",
    "print()\n",
    "\n",
    "dataframe_sorted = dataframe.sort_values(by = ['id', 'Age']) # dataframe after sorting by 'id' and 'age'\n",
    "\n",
    "print(dataframe_sorted)"
   ]
  },
  {
   "cell_type": "markdown",
   "id": "65ebd4b9",
   "metadata": {},
   "source": [
    "7.Given  a dataframe  with  custom  indexing,  convert  and  it  to  default  indexing  and display it."
   ]
  },
  {
   "cell_type": "code",
   "execution_count": 22,
   "id": "e03c2401",
   "metadata": {},
   "outputs": [
    {
     "name": "stdout",
     "output_type": "stream",
     "text": [
      "   id        Name  Age Course\n",
      "0   1   Adeeshaya   21    MCA\n",
      "1  21   Aparna PM   22    Msc\n",
      "2  24  Arya Moahn   23  Btech\n",
      "\n",
      "   index  id        Name  Age Course\n",
      "0      0   1   Adeeshaya   21    MCA\n",
      "1      1  21   Aparna PM   22    Msc\n",
      "2      2  24  Arya Moahn   23  Btech\n"
     ]
    }
   ],
   "source": [
    "print(dataframe) # printing the original dataframe with custom indexing\n",
    "\n",
    "print()\n",
    "\n",
    "dataframe = dataframe.reset_index()\n",
    "\n",
    "print(dataframe) # printing the dataframe with default indexes"
   ]
  },
  {
   "cell_type": "markdown",
   "id": "210464de",
   "metadata": {},
   "source": [
    "8.Given a dataframe, select first 2 rows and output them."
   ]
  },
  {
   "cell_type": "code",
   "execution_count": 25,
   "id": "41cc5d92",
   "metadata": {},
   "outputs": [
    {
     "name": "stdout",
     "output_type": "stream",
     "text": [
      "   index  id        Name  Age Course\n",
      "0      0   1   Adeeshaya   21    MCA\n",
      "1      1  21   Aparna PM   22    Msc\n",
      "2      2  24  Arya Moahn   23  Btech\n",
      "\n",
      "Data frame after extracting first teo rows\n",
      "   index  id       Name  Age Course\n",
      "0      0   1  Adeeshaya   21    MCA\n",
      "1      1  21  Aparna PM   22    Msc\n"
     ]
    }
   ],
   "source": [
    "print(dataframe) # original dataframe\n",
    "\n",
    "print()\n",
    "\n",
    "row = dataframe.iloc[[0,1], :] # extracting the 1st 2 rows of the dataframe\n",
    "\n",
    "print(\"Data frame after extracting first teo rows\")\n",
    "print(row)"
   ]
  },
  {
   "cell_type": "markdown",
   "id": "a7fe356b",
   "metadata": {},
   "source": [
    "9.Given  is  a  dataframe  showing  name,  occupation,  salary  of  people.  Find  the  average salary per occupation."
   ]
  },
  {
   "cell_type": "code",
   "execution_count": 38,
   "id": "7b05d783",
   "metadata": {},
   "outputs": [
    {
     "name": "stdout",
     "output_type": "stream",
     "text": [
      "         Name     Occupation   Salary\n",
      "0  Aparna Raj         Intern  10000.0\n",
      "1   Raj Mohan  Bank employee      NaN\n",
      "2       Deepa       Engineer  50000.0\n",
      "3       Vinod      Busniness  35000.0\n",
      "4      Vikram    Electircian      NaN\n",
      "\n",
      "Average salary per occupation\n",
      "\n",
      "Occupation\n",
      "Bank employee        NaN\n",
      "Busniness        35000.0\n",
      "Electircian          NaN\n",
      "Engineer         50000.0\n",
      "Intern           10000.0\n",
      "Name: Salary, dtype: float64\n"
     ]
    }
   ],
   "source": [
    "dataframe2 = pd.read_csv('data2.csv')\n",
    "print(dataframe2) # original dataframe\n",
    "\n",
    "print()\n",
    "print(\"Average salary per occupation\")\n",
    "print()\n",
    "occ_average_age = dataframe2.groupby('Occupation')['Salary'].mean() # required dataframe\n",
    "\n",
    "print(occ_average_age)"
   ]
  },
  {
   "cell_type": "markdown",
   "id": "b1537a4b",
   "metadata": {},
   "source": [
    "10.Given a dataframe with NaN Values, fill the NaN values with 0."
   ]
  },
  {
   "cell_type": "code",
   "execution_count": 40,
   "id": "a5f478dc",
   "metadata": {},
   "outputs": [
    {
     "name": "stdout",
     "output_type": "stream",
     "text": [
      "         Name     Occupation   Salary\n",
      "0  Aparna Raj         Intern  10000.0\n",
      "1   Raj Mohan  Bank employee      NaN\n",
      "2       Deepa       Engineer  50000.0\n",
      "3       Vinod      Busniness  35000.0\n",
      "4      Vikram    Electircian      NaN\n",
      "\n",
      "After filling Nan with 0:\n",
      "\n",
      "         Name     Occupation   Salary\n",
      "0  Aparna Raj         Intern  10000.0\n",
      "1   Raj Mohan  Bank employee      0.0\n",
      "2       Deepa       Engineer  50000.0\n",
      "3       Vinod      Busniness  35000.0\n",
      "4      Vikram    Electircian      0.0\n"
     ]
    }
   ],
   "source": [
    "print(dataframe2) # original dataframe\n",
    "\n",
    "print()\n",
    "print(\"After filling Nan with 0:\")\n",
    "print()\n",
    "dataframe_nullfill = dataframe2.fillna(0)\n",
    "\n",
    "print(dataframe_nullfill) # dataframe after filling NaN values with 1"
   ]
  },
  {
   "cell_type": "markdown",
   "id": "f5de4cd1",
   "metadata": {},
   "source": [
    "11.Given  is  a  dataframe  showing  Company  Names  (cname)  and  corresponding  Profits (profit).  Convert the  values  of  Profit  column  such that  values  in  it  greater than  0  are set to True and the rest are set to False."
   ]
  },
  {
   "cell_type": "code",
   "execution_count": 44,
   "id": "6a0536f2",
   "metadata": {},
   "outputs": [
    {
     "name": "stdout",
     "output_type": "stream",
     "text": [
      "       cname  profit\n",
      "0  Company 1  -10000\n",
      "1  Comapny 2   10000\n",
      "2  Comapny 3   -5000\n",
      "3  Comapny 4   15000\n",
      "4  Comapny 5   20000\n",
      "\n",
      "       cname  profit\n",
      "0  Company 1   False\n",
      "1  Comapny 2    True\n",
      "2  Comapny 3   False\n",
      "3  Comapny 4    True\n",
      "4  Comapny 5    True\n"
     ]
    }
   ],
   "source": [
    "company = pd.read_csv('company.csv')\n",
    "print(company) # original dataframe\n",
    "\n",
    "print()\n",
    "\n",
    "company['profit'] = company['profit'].apply(lambda x:x>0)\n",
    "\n",
    "print(company) # required dataframe"
   ]
  },
  {
   "cell_type": "markdown",
   "id": "b5cded88",
   "metadata": {},
   "source": [
    "12.Given are 2 dataframes, with one dataframe containing Employee ID (eid), Employee Name (ename) and Stipend (stipend) and the other dataframe containing Employee ID (eid) and designation of the employee (designation). Output the Dataframe containing Employee   ID   (eid),   Employee   Name   (ename),   Stipend   (stipend)   and   Position (position)"
   ]
  },
  {
   "cell_type": "code",
   "execution_count": 46,
   "id": "f60a4488",
   "metadata": {},
   "outputs": [
    {
     "name": "stdout",
     "output_type": "stream",
     "text": [
      "   eid       ename  stipend\n",
      "0    1      Aparna    10000\n",
      "1    2  Arya mohan    12000\n",
      "2    3   Aparna PM    15000\n",
      "3    4     Ashitam     9000\n",
      "\n",
      "   eid designation\n",
      "0    1  Trivandrum\n",
      "1    2      Kollam\n",
      "2    3      Kannur\n",
      "3    4  Trivandrum\n",
      "\n",
      "   eid       ename  stipend designation\n",
      "0    1      Aparna    10000  Trivandrum\n",
      "1    2  Arya mohan    12000      Kollam\n",
      "2    3   Aparna PM    15000      Kannur\n",
      "3    4     Ashitam     9000  Trivandrum\n"
     ]
    }
   ],
   "source": [
    "emp1 = pd.read_csv('emp1_data.csv')\n",
    "emp2 = pd.read_csv('emp2_data.csv')\n",
    "print(emp1) # 1st DataFrame containing employee id (eid), employee name (ename) and stipend\n",
    "\n",
    "print()\n",
    "\n",
    "print(emp2) # 2nd DataFrame containing employee id (eid) and designation of the employee (position)\n",
    "\n",
    "print()\n",
    "\n",
    "dataframe = pd.merge(emp1, emp2, how = 'inner', on = 'eid') # required dataframe\n",
    "\n",
    "print(dataframe)"
   ]
  }
 ],
 "metadata": {
  "kernelspec": {
   "display_name": "Python 3 (ipykernel)",
   "language": "python",
   "name": "python3"
  },
  "language_info": {
   "codemirror_mode": {
    "name": "ipython",
    "version": 3
   },
   "file_extension": ".py",
   "mimetype": "text/x-python",
   "name": "python",
   "nbconvert_exporter": "python",
   "pygments_lexer": "ipython3",
   "version": "3.7.11"
  }
 },
 "nbformat": 4,
 "nbformat_minor": 5
}
