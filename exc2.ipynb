{
 "cells": [
  {
   "cell_type": "markdown",
   "id": "49c65735",
   "metadata": {},
   "source": [
    "##### Write Python program to create two matrices (read values from user) and find the following\n",
    "1. Dot Product\n",
    "2. Transpose\n",
    "3. Trace\n",
    "4. Rank\n",
    "5. Determinant\n",
    "6. Inverse\n",
    "7. Eigen values and eigen vectors"
   ]
  },
  {
   "cell_type": "code",
   "execution_count": 9,
   "id": "fdb65436",
   "metadata": {},
   "outputs": [
    {
     "name": "stdout",
     "output_type": "stream",
     "text": [
      "Enter the size of the matrix:2\n",
      "Enter the elements of first matrix row wise\n",
      "1\n",
      "2\n",
      "3\n",
      "4\n",
      "Enter the elements of second matrix row wise\n",
      "5\n",
      "6\n",
      "7\n",
      "8\n",
      "First matrix is:\n",
      "[[1 2]\n",
      " [3 4]]\n",
      "Second matrix is:\n",
      "[[5 6]\n",
      " [7 8]]\n",
      "Dot product of both the matrix is:\n",
      "[[19 22]\n",
      " [43 50]]\n",
      "Transpose of first matrix:\n",
      "[[1 3]\n",
      " [2 4]]\n",
      "Transpose of second matrix:\n",
      "[[5 7]\n",
      " [6 8]]\n",
      "Trace of first matrix:\n",
      "5\n",
      "Trace of second matrix:\n",
      "13\n",
      "Rank of first matrix:\n",
      "2\n",
      "Rank of second matrix:\n",
      "2\n"
     ]
    }
   ],
   "source": [
    "import numpy as np\n",
    "n=int(input(\"Enter the size of the matrix:\"))\n",
    "matrix1 =[]\n",
    "matrix2 =[]\n",
    "\n",
    "\n",
    "print(\"Enter the elements of first matrix row wise\") # Reading first matrix\n",
    "for i in range(n):\n",
    "    a=[]\n",
    "    for j in range(n):\n",
    "        a.append(int(input()))\n",
    "    matrix1.append(a)\n",
    "    \n",
    "    \n",
    "print(\"Enter the elements of second matrix row wise\")  # Reading second matrix\n",
    "for i in range(n):\n",
    "    a=[]\n",
    "    for j in range(n):\n",
    "        a.append(int(input()))\n",
    "    matrix2.append(a)\n",
    "    \n",
    "print(\"=========================================\")    \n",
    "print(\"First matrix is:\")\n",
    "print(np.matrix(matrix1))  #print the first matrix\n",
    "print(\"Second matrix is:\")\n",
    "print(np.matrix(matrix2))  #print the second matrix\n",
    "\n",
    "print(\"=========================================\")\n",
    "print(\"Dot product of both the matrix is:\")\n",
    "print(np.dot(matrix1,matrix2))\n",
    "print(\"=========================================\")\n",
    "print(\"Transpose of first matrix:\")\n",
    "print(np.transpose(matrix1))\n",
    "print(\"Transpose of second matrix:\")\n",
    "print(np.transpose(matrix2))\n",
    "print(\"=========================================\")\n",
    "print(\"Trace of first matrix:\")\n",
    "print(np.trace(matrix1))\n",
    "print(\"Trace of second matrix:\")\n",
    "print(np.trace(matrix2))\n",
    "print(\"=========================================\")\n",
    "print(\"Rank of first matrix:\")\n",
    "print(np.linalg.matrix_rank(matrix1))\n",
    "print(\"Rank of second matrix:\")\n",
    "print(np.linalg.matrix_rank(matrix2))\n",
    "print(\"=========================================\")\n",
    "\n",
    "print(\"Determinant of First matrix\")\n",
    "print(numpy.linalg.det(matrix1))"
   ]
  }
 ],
 "metadata": {
  "kernelspec": {
   "display_name": "Python 3 (ipykernel)",
   "language": "python",
   "name": "python3"
  },
  "language_info": {
   "codemirror_mode": {
    "name": "ipython",
    "version": 3
   },
   "file_extension": ".py",
   "mimetype": "text/x-python",
   "name": "python",
   "nbconvert_exporter": "python",
   "pygments_lexer": "ipython3",
   "version": "3.9.7"
  }
 },
 "nbformat": 4,
 "nbformat_minor": 5
}
